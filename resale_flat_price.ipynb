{
 "cells": [
  {
   "cell_type": "markdown",
   "metadata": {},
   "source": [
    " # Resale Flat Prices"
   ]
  },
  {
   "cell_type": "code",
   "execution_count": 4,
   "metadata": {},
   "outputs": [],
   "source": [
    "# Packages\n",
    "\n",
    "import pandas as pd\n",
    "import numpy as np\n",
    "import warnings\n",
    "warnings.filterwarnings(\"ignore\")\n",
    "from datetime import datetime\n",
    "import plotly as px\n",
    "import seaborn as sns\n",
    "import matplotlib.pyplot as plt"
   ]
  },
  {
   "cell_type": "code",
   "execution_count": 5,
   "metadata": {},
   "outputs": [],
   "source": [
    "#Encoding packages\n",
    "\n",
    "from sklearn.preprocessing import LabelEncoder,OrdinalEncoder"
   ]
  },
  {
   "cell_type": "markdown",
   "metadata": {},
   "source": [
    " # Reading the \"csv\" files (Registration)"
   ]
  },
  {
   "cell_type": "code",
   "execution_count": 6,
   "metadata": {},
   "outputs": [
    {
     "data": {
      "text/html": [
       "<div>\n",
       "<style scoped>\n",
       "    .dataframe tbody tr th:only-of-type {\n",
       "        vertical-align: middle;\n",
       "    }\n",
       "\n",
       "    .dataframe tbody tr th {\n",
       "        vertical-align: top;\n",
       "    }\n",
       "\n",
       "    .dataframe thead th {\n",
       "        text-align: right;\n",
       "    }\n",
       "</style>\n",
       "<table border=\"1\" class=\"dataframe\">\n",
       "  <thead>\n",
       "    <tr style=\"text-align: right;\">\n",
       "      <th></th>\n",
       "      <th>month</th>\n",
       "      <th>town</th>\n",
       "      <th>flat_type</th>\n",
       "      <th>block</th>\n",
       "      <th>street_name</th>\n",
       "      <th>storey_range</th>\n",
       "      <th>floor_area_sqm</th>\n",
       "      <th>flat_model</th>\n",
       "      <th>lease_commence_date</th>\n",
       "      <th>resale_price</th>\n",
       "    </tr>\n",
       "  </thead>\n",
       "  <tbody>\n",
       "    <tr>\n",
       "      <th>0</th>\n",
       "      <td>2012-03</td>\n",
       "      <td>ANG MO KIO</td>\n",
       "      <td>2 ROOM</td>\n",
       "      <td>172</td>\n",
       "      <td>ANG MO KIO AVE 4</td>\n",
       "      <td>06 TO 10</td>\n",
       "      <td>45.0</td>\n",
       "      <td>Improved</td>\n",
       "      <td>1986</td>\n",
       "      <td>250000.0</td>\n",
       "    </tr>\n",
       "    <tr>\n",
       "      <th>1</th>\n",
       "      <td>2012-03</td>\n",
       "      <td>ANG MO KIO</td>\n",
       "      <td>2 ROOM</td>\n",
       "      <td>510</td>\n",
       "      <td>ANG MO KIO AVE 8</td>\n",
       "      <td>01 TO 05</td>\n",
       "      <td>44.0</td>\n",
       "      <td>Improved</td>\n",
       "      <td>1980</td>\n",
       "      <td>265000.0</td>\n",
       "    </tr>\n",
       "  </tbody>\n",
       "</table>\n",
       "</div>"
      ],
      "text/plain": [
       "     month        town flat_type block       street_name storey_range  \\\n",
       "0  2012-03  ANG MO KIO    2 ROOM   172  ANG MO KIO AVE 4     06 TO 10   \n",
       "1  2012-03  ANG MO KIO    2 ROOM   510  ANG MO KIO AVE 8     01 TO 05   \n",
       "\n",
       "   floor_area_sqm flat_model  lease_commence_date  resale_price  \n",
       "0            45.0   Improved                 1986      250000.0  \n",
       "1            44.0   Improved                 1980      265000.0  "
      ]
     },
     "execution_count": 6,
     "metadata": {},
     "output_type": "execute_result"
    }
   ],
   "source": [
    "# reading the 2012 to 2014\n",
    "df_1 = pd.read_csv(r\"c:/Users/L/Downloads/ResaleFlatPricesBasedonRegistrationDateFromMar2012toDec2014.csv\")\n",
    "df_1.head(2)"
   ]
  },
  {
   "cell_type": "code",
   "execution_count": 7,
   "metadata": {},
   "outputs": [
    {
     "data": {
      "text/html": [
       "<div>\n",
       "<style scoped>\n",
       "    .dataframe tbody tr th:only-of-type {\n",
       "        vertical-align: middle;\n",
       "    }\n",
       "\n",
       "    .dataframe tbody tr th {\n",
       "        vertical-align: top;\n",
       "    }\n",
       "\n",
       "    .dataframe thead th {\n",
       "        text-align: right;\n",
       "    }\n",
       "</style>\n",
       "<table border=\"1\" class=\"dataframe\">\n",
       "  <thead>\n",
       "    <tr style=\"text-align: right;\">\n",
       "      <th></th>\n",
       "      <th>month</th>\n",
       "      <th>town</th>\n",
       "      <th>flat_type</th>\n",
       "      <th>block</th>\n",
       "      <th>street_name</th>\n",
       "      <th>storey_range</th>\n",
       "      <th>floor_area_sqm</th>\n",
       "      <th>flat_model</th>\n",
       "      <th>lease_commence_date</th>\n",
       "      <th>remaining_lease</th>\n",
       "      <th>resale_price</th>\n",
       "    </tr>\n",
       "  </thead>\n",
       "  <tbody>\n",
       "    <tr>\n",
       "      <th>37151</th>\n",
       "      <td>2016-12</td>\n",
       "      <td>YISHUN</td>\n",
       "      <td>EXECUTIVE</td>\n",
       "      <td>325</td>\n",
       "      <td>YISHUN CTRL</td>\n",
       "      <td>01 TO 03</td>\n",
       "      <td>146.0</td>\n",
       "      <td>Maisonette</td>\n",
       "      <td>1988</td>\n",
       "      <td>70</td>\n",
       "      <td>575000.0</td>\n",
       "    </tr>\n",
       "    <tr>\n",
       "      <th>37152</th>\n",
       "      <td>2016-12</td>\n",
       "      <td>YISHUN</td>\n",
       "      <td>MULTI-GENERATION</td>\n",
       "      <td>666</td>\n",
       "      <td>YISHUN AVE 4</td>\n",
       "      <td>10 TO 12</td>\n",
       "      <td>164.0</td>\n",
       "      <td>Multi Generation</td>\n",
       "      <td>1987</td>\n",
       "      <td>70</td>\n",
       "      <td>735000.0</td>\n",
       "    </tr>\n",
       "  </tbody>\n",
       "</table>\n",
       "</div>"
      ],
      "text/plain": [
       "         month    town         flat_type block   street_name storey_range  \\\n",
       "37151  2016-12  YISHUN         EXECUTIVE   325   YISHUN CTRL     01 TO 03   \n",
       "37152  2016-12  YISHUN  MULTI-GENERATION   666  YISHUN AVE 4     10 TO 12   \n",
       "\n",
       "       floor_area_sqm        flat_model  lease_commence_date  remaining_lease  \\\n",
       "37151           146.0        Maisonette                 1988               70   \n",
       "37152           164.0  Multi Generation                 1987               70   \n",
       "\n",
       "       resale_price  \n",
       "37151      575000.0  \n",
       "37152      735000.0  "
      ]
     },
     "execution_count": 7,
     "metadata": {},
     "output_type": "execute_result"
    }
   ],
   "source": [
    "# reading the 2015 to 2016\n",
    "df_2= pd.read_csv(r\"c:/Users/L/Downloads/ResaleFlatPricesBasedonRegistrationDateFromJan2015toDec2016.csv\")\n",
    "df_2.tail(2)"
   ]
  },
  {
   "cell_type": "code",
   "execution_count": 8,
   "metadata": {},
   "outputs": [
    {
     "data": {
      "text/html": [
       "<div>\n",
       "<style scoped>\n",
       "    .dataframe tbody tr th:only-of-type {\n",
       "        vertical-align: middle;\n",
       "    }\n",
       "\n",
       "    .dataframe tbody tr th {\n",
       "        vertical-align: top;\n",
       "    }\n",
       "\n",
       "    .dataframe thead th {\n",
       "        text-align: right;\n",
       "    }\n",
       "</style>\n",
       "<table border=\"1\" class=\"dataframe\">\n",
       "  <thead>\n",
       "    <tr style=\"text-align: right;\">\n",
       "      <th></th>\n",
       "      <th>month</th>\n",
       "      <th>town</th>\n",
       "      <th>flat_type</th>\n",
       "      <th>block</th>\n",
       "      <th>street_name</th>\n",
       "      <th>storey_range</th>\n",
       "      <th>floor_area_sqm</th>\n",
       "      <th>flat_model</th>\n",
       "      <th>lease_commence_date</th>\n",
       "      <th>remaining_lease</th>\n",
       "      <th>resale_price</th>\n",
       "    </tr>\n",
       "  </thead>\n",
       "  <tbody>\n",
       "    <tr>\n",
       "      <th>0</th>\n",
       "      <td>2017-01</td>\n",
       "      <td>ANG MO KIO</td>\n",
       "      <td>2 ROOM</td>\n",
       "      <td>406</td>\n",
       "      <td>ANG MO KIO AVE 10</td>\n",
       "      <td>10 TO 12</td>\n",
       "      <td>44.0</td>\n",
       "      <td>Improved</td>\n",
       "      <td>1979</td>\n",
       "      <td>61 years 04 months</td>\n",
       "      <td>232000.0</td>\n",
       "    </tr>\n",
       "    <tr>\n",
       "      <th>1</th>\n",
       "      <td>2017-01</td>\n",
       "      <td>ANG MO KIO</td>\n",
       "      <td>3 ROOM</td>\n",
       "      <td>108</td>\n",
       "      <td>ANG MO KIO AVE 4</td>\n",
       "      <td>01 TO 03</td>\n",
       "      <td>67.0</td>\n",
       "      <td>New Generation</td>\n",
       "      <td>1978</td>\n",
       "      <td>60 years 07 months</td>\n",
       "      <td>250000.0</td>\n",
       "    </tr>\n",
       "  </tbody>\n",
       "</table>\n",
       "</div>"
      ],
      "text/plain": [
       "     month        town flat_type block        street_name storey_range  \\\n",
       "0  2017-01  ANG MO KIO    2 ROOM   406  ANG MO KIO AVE 10     10 TO 12   \n",
       "1  2017-01  ANG MO KIO    3 ROOM   108   ANG MO KIO AVE 4     01 TO 03   \n",
       "\n",
       "   floor_area_sqm      flat_model  lease_commence_date     remaining_lease  \\\n",
       "0            44.0        Improved                 1979  61 years 04 months   \n",
       "1            67.0  New Generation                 1978  60 years 07 months   \n",
       "\n",
       "   resale_price  \n",
       "0      232000.0  \n",
       "1      250000.0  "
      ]
     },
     "execution_count": 8,
     "metadata": {},
     "output_type": "execute_result"
    }
   ],
   "source": [
    "# reading the 2017 to onwards\n",
    "df_3=pd.read_csv(r\"c:/Users/L/Downloads/ResaleflatpricesbasedonregistrationdatefromJan2017onwards.csv\")\n",
    "df_3.head(2)"
   ]
  },
  {
   "cell_type": "markdown",
   "metadata": {},
   "source": [
    " # Preprocessing"
   ]
  },
  {
   "cell_type": "code",
   "execution_count": 9,
   "metadata": {},
   "outputs": [
    {
     "data": {
      "text/html": [
       "<div>\n",
       "<style scoped>\n",
       "    .dataframe tbody tr th:only-of-type {\n",
       "        vertical-align: middle;\n",
       "    }\n",
       "\n",
       "    .dataframe tbody tr th {\n",
       "        vertical-align: top;\n",
       "    }\n",
       "\n",
       "    .dataframe thead th {\n",
       "        text-align: right;\n",
       "    }\n",
       "</style>\n",
       "<table border=\"1\" class=\"dataframe\">\n",
       "  <thead>\n",
       "    <tr style=\"text-align: right;\">\n",
       "      <th></th>\n",
       "      <th>month</th>\n",
       "      <th>town</th>\n",
       "      <th>flat_type</th>\n",
       "      <th>block</th>\n",
       "      <th>street_name</th>\n",
       "      <th>storey_range</th>\n",
       "      <th>floor_area_sqm</th>\n",
       "      <th>flat_model</th>\n",
       "      <th>lease_commence_date</th>\n",
       "      <th>remaining_lease</th>\n",
       "      <th>resale_price</th>\n",
       "    </tr>\n",
       "  </thead>\n",
       "  <tbody>\n",
       "    <tr>\n",
       "      <th>215062</th>\n",
       "      <td>2024-02</td>\n",
       "      <td>YISHUN</td>\n",
       "      <td>MULTI-GENERATION</td>\n",
       "      <td>666</td>\n",
       "      <td>YISHUN AVE 4</td>\n",
       "      <td>04 TO 06</td>\n",
       "      <td>164.0</td>\n",
       "      <td>Multi Generation</td>\n",
       "      <td>1987</td>\n",
       "      <td>62 years 11 months</td>\n",
       "      <td>998000.0</td>\n",
       "    </tr>\n",
       "    <tr>\n",
       "      <th>215063</th>\n",
       "      <td>2024-03</td>\n",
       "      <td>YISHUN</td>\n",
       "      <td>MULTI-GENERATION</td>\n",
       "      <td>666</td>\n",
       "      <td>YISHUN AVE 4</td>\n",
       "      <td>10 TO 12</td>\n",
       "      <td>164.0</td>\n",
       "      <td>Multi Generation</td>\n",
       "      <td>1987</td>\n",
       "      <td>62 years 09 months</td>\n",
       "      <td>1200000.0</td>\n",
       "    </tr>\n",
       "  </tbody>\n",
       "</table>\n",
       "</div>"
      ],
      "text/plain": [
       "          month    town         flat_type block   street_name storey_range  \\\n",
       "215062  2024-02  YISHUN  MULTI-GENERATION   666  YISHUN AVE 4     04 TO 06   \n",
       "215063  2024-03  YISHUN  MULTI-GENERATION   666  YISHUN AVE 4     10 TO 12   \n",
       "\n",
       "        floor_area_sqm        flat_model  lease_commence_date  \\\n",
       "215062           164.0  Multi Generation                 1987   \n",
       "215063           164.0  Multi Generation                 1987   \n",
       "\n",
       "           remaining_lease  resale_price  \n",
       "215062  62 years 11 months      998000.0  \n",
       "215063  62 years 09 months     1200000.0  "
      ]
     },
     "execution_count": 9,
     "metadata": {},
     "output_type": "execute_result"
    }
   ],
   "source": [
    "#df_1 does not have a \"remaining_lease\" column so, I choose the df_2 and df_3 only\n",
    "\n",
    "#concatenate the df_2 and df_3\n",
    "\n",
    "df_4= pd.concat([df_2,df_3],axis= 0)\n",
    "df_4.reset_index(drop= True, inplace= True)\n",
    "df_4.tail(2)"
   ]
  },
  {
   "cell_type": "code",
   "execution_count": 10,
   "metadata": {},
   "outputs": [
    {
     "name": "stdout",
     "output_type": "stream",
     "text": [
      "<class 'pandas.core.frame.DataFrame'>\n",
      "RangeIndex: 215064 entries, 0 to 215063\n",
      "Data columns (total 11 columns):\n",
      " #   Column               Non-Null Count   Dtype  \n",
      "---  ------               --------------   -----  \n",
      " 0   month                215064 non-null  object \n",
      " 1   town                 215064 non-null  object \n",
      " 2   flat_type            215064 non-null  object \n",
      " 3   block                215064 non-null  object \n",
      " 4   street_name          215064 non-null  object \n",
      " 5   storey_range         215064 non-null  object \n",
      " 6   floor_area_sqm       215064 non-null  float64\n",
      " 7   flat_model           215064 non-null  object \n",
      " 8   lease_commence_date  215064 non-null  int64  \n",
      " 9   remaining_lease      215064 non-null  object \n",
      " 10  resale_price         215064 non-null  float64\n",
      "dtypes: float64(2), int64(1), object(8)\n",
      "memory usage: 18.0+ MB\n"
     ]
    }
   ],
   "source": [
    "df_4.info()"
   ]
  },
  {
   "cell_type": "code",
   "execution_count": 11,
   "metadata": {},
   "outputs": [
    {
     "data": {
      "text/plain": [
       "month                  0\n",
       "town                   0\n",
       "flat_type              0\n",
       "block                  0\n",
       "street_name            0\n",
       "storey_range           0\n",
       "floor_area_sqm         0\n",
       "flat_model             0\n",
       "lease_commence_date    0\n",
       "remaining_lease        0\n",
       "resale_price           0\n",
       "dtype: int64"
      ]
     },
     "execution_count": 11,
     "metadata": {},
     "output_type": "execute_result"
    }
   ],
   "source": [
    "df_4.isnull().sum()"
   ]
  },
  {
   "cell_type": "markdown",
   "metadata": {},
   "source": [
    "# This Dataset have not any null values\n",
    "\n",
    "# Encoding the catogarical columns and chaning the datatype\n",
    "    "
   ]
  },
  {
   "cell_type": "markdown",
   "metadata": {},
   "source": [
    "df_4.head(4)"
   ]
  },
  {
   "cell_type": "code",
   "execution_count": 12,
   "metadata": {},
   "outputs": [
    {
     "data": {
      "text/html": [
       "<div>\n",
       "<style scoped>\n",
       "    .dataframe tbody tr th:only-of-type {\n",
       "        vertical-align: middle;\n",
       "    }\n",
       "\n",
       "    .dataframe tbody tr th {\n",
       "        vertical-align: top;\n",
       "    }\n",
       "\n",
       "    .dataframe thead th {\n",
       "        text-align: right;\n",
       "    }\n",
       "</style>\n",
       "<table border=\"1\" class=\"dataframe\">\n",
       "  <thead>\n",
       "    <tr style=\"text-align: right;\">\n",
       "      <th></th>\n",
       "      <th>month</th>\n",
       "      <th>town</th>\n",
       "      <th>flat_type</th>\n",
       "      <th>block</th>\n",
       "      <th>street_name</th>\n",
       "      <th>storey_range</th>\n",
       "      <th>floor_area_sqm</th>\n",
       "      <th>flat_model</th>\n",
       "      <th>lease_commence_date</th>\n",
       "      <th>remaining_lease</th>\n",
       "      <th>resale_price</th>\n",
       "    </tr>\n",
       "  </thead>\n",
       "  <tbody>\n",
       "    <tr>\n",
       "      <th>0</th>\n",
       "      <td>2015-01</td>\n",
       "      <td>ANG MO KIO</td>\n",
       "      <td>3 ROOM</td>\n",
       "      <td>174</td>\n",
       "      <td>ANG MO KIO AVE 4</td>\n",
       "      <td>07 TO 09</td>\n",
       "      <td>60.0</td>\n",
       "      <td>Improved</td>\n",
       "      <td>1986</td>\n",
       "      <td>70</td>\n",
       "      <td>255000.0</td>\n",
       "    </tr>\n",
       "    <tr>\n",
       "      <th>1</th>\n",
       "      <td>2015-01</td>\n",
       "      <td>ANG MO KIO</td>\n",
       "      <td>3 ROOM</td>\n",
       "      <td>541</td>\n",
       "      <td>ANG MO KIO AVE 10</td>\n",
       "      <td>01 TO 03</td>\n",
       "      <td>68.0</td>\n",
       "      <td>New Generation</td>\n",
       "      <td>1981</td>\n",
       "      <td>65</td>\n",
       "      <td>275000.0</td>\n",
       "    </tr>\n",
       "  </tbody>\n",
       "</table>\n",
       "</div>"
      ],
      "text/plain": [
       "     month        town flat_type block        street_name storey_range  \\\n",
       "0  2015-01  ANG MO KIO    3 ROOM   174   ANG MO KIO AVE 4     07 TO 09   \n",
       "1  2015-01  ANG MO KIO    3 ROOM   541  ANG MO KIO AVE 10     01 TO 03   \n",
       "\n",
       "   floor_area_sqm      flat_model  lease_commence_date remaining_lease  \\\n",
       "0            60.0        Improved                 1986              70   \n",
       "1            68.0  New Generation                 1981              65   \n",
       "\n",
       "   resale_price  \n",
       "0      255000.0  \n",
       "1      275000.0  "
      ]
     },
     "execution_count": 12,
     "metadata": {},
     "output_type": "execute_result"
    }
   ],
   "source": [
    "df_4.head(2)"
   ]
  },
  {
   "cell_type": "code",
   "execution_count": 13,
   "metadata": {},
   "outputs": [],
   "source": [
    "# Creating a new column \"address\"\n",
    "df_4[\"address\"]= df_4[\"block\"]+\" \"+df_4[\"street_name\"]"
   ]
  },
  {
   "cell_type": "code",
   "execution_count": 14,
   "metadata": {},
   "outputs": [],
   "source": [
    "#droping the \"street_name\" and \"block\"\n",
    "df_5= df_4.drop(columns=[\"block\",\"street_name\"])"
   ]
  },
  {
   "cell_type": "code",
   "execution_count": 15,
   "metadata": {},
   "outputs": [
    {
     "data": {
      "text/html": [
       "<div>\n",
       "<style scoped>\n",
       "    .dataframe tbody tr th:only-of-type {\n",
       "        vertical-align: middle;\n",
       "    }\n",
       "\n",
       "    .dataframe tbody tr th {\n",
       "        vertical-align: top;\n",
       "    }\n",
       "\n",
       "    .dataframe thead th {\n",
       "        text-align: right;\n",
       "    }\n",
       "</style>\n",
       "<table border=\"1\" class=\"dataframe\">\n",
       "  <thead>\n",
       "    <tr style=\"text-align: right;\">\n",
       "      <th></th>\n",
       "      <th>month</th>\n",
       "      <th>town</th>\n",
       "      <th>flat_type</th>\n",
       "      <th>storey_range</th>\n",
       "      <th>floor_area_sqm</th>\n",
       "      <th>flat_model</th>\n",
       "      <th>lease_commence_date</th>\n",
       "      <th>remaining_lease</th>\n",
       "      <th>resale_price</th>\n",
       "      <th>address</th>\n",
       "    </tr>\n",
       "  </thead>\n",
       "  <tbody>\n",
       "    <tr>\n",
       "      <th>0</th>\n",
       "      <td>2015-01</td>\n",
       "      <td>ANG MO KIO</td>\n",
       "      <td>3 ROOM</td>\n",
       "      <td>07 TO 09</td>\n",
       "      <td>60.0</td>\n",
       "      <td>Improved</td>\n",
       "      <td>1986</td>\n",
       "      <td>70</td>\n",
       "      <td>255000.0</td>\n",
       "      <td>174 ANG MO KIO AVE 4</td>\n",
       "    </tr>\n",
       "    <tr>\n",
       "      <th>1</th>\n",
       "      <td>2015-01</td>\n",
       "      <td>ANG MO KIO</td>\n",
       "      <td>3 ROOM</td>\n",
       "      <td>01 TO 03</td>\n",
       "      <td>68.0</td>\n",
       "      <td>New Generation</td>\n",
       "      <td>1981</td>\n",
       "      <td>65</td>\n",
       "      <td>275000.0</td>\n",
       "      <td>541 ANG MO KIO AVE 10</td>\n",
       "    </tr>\n",
       "  </tbody>\n",
       "</table>\n",
       "</div>"
      ],
      "text/plain": [
       "     month        town flat_type storey_range  floor_area_sqm      flat_model  \\\n",
       "0  2015-01  ANG MO KIO    3 ROOM     07 TO 09            60.0        Improved   \n",
       "1  2015-01  ANG MO KIO    3 ROOM     01 TO 03            68.0  New Generation   \n",
       "\n",
       "   lease_commence_date remaining_lease  resale_price                address  \n",
       "0                 1986              70      255000.0   174 ANG MO KIO AVE 4  \n",
       "1                 1981              65      275000.0  541 ANG MO KIO AVE 10  "
      ]
     },
     "execution_count": 15,
     "metadata": {},
     "output_type": "execute_result"
    }
   ],
   "source": [
    "df_5.head(2)"
   ]
  },
  {
   "cell_type": "code",
   "execution_count": 16,
   "metadata": {},
   "outputs": [],
   "source": [
    "# for month\n",
    "df_5[\"month\"] = pd.to_datetime(df_5[\"month\"], format=\"%Y-%m\")"
   ]
  },
  {
   "cell_type": "code",
   "execution_count": 17,
   "metadata": {},
   "outputs": [],
   "source": [
    "#spliting the month column to \"Year\", \"month\", \"day\"\n",
    "df_5[\"year\"]= df_5[\"month\"].dt.year\n",
    "df_5[\"month\"]= df_5[\"month\"].dt.month"
   ]
  },
  {
   "cell_type": "code",
   "execution_count": 18,
   "metadata": {},
   "outputs": [
    {
     "data": {
      "text/html": [
       "<div>\n",
       "<style scoped>\n",
       "    .dataframe tbody tr th:only-of-type {\n",
       "        vertical-align: middle;\n",
       "    }\n",
       "\n",
       "    .dataframe tbody tr th {\n",
       "        vertical-align: top;\n",
       "    }\n",
       "\n",
       "    .dataframe thead th {\n",
       "        text-align: right;\n",
       "    }\n",
       "</style>\n",
       "<table border=\"1\" class=\"dataframe\">\n",
       "  <thead>\n",
       "    <tr style=\"text-align: right;\">\n",
       "      <th></th>\n",
       "      <th>month</th>\n",
       "      <th>town</th>\n",
       "      <th>flat_type</th>\n",
       "      <th>storey_range</th>\n",
       "      <th>floor_area_sqm</th>\n",
       "      <th>flat_model</th>\n",
       "      <th>lease_commence_date</th>\n",
       "      <th>remaining_lease</th>\n",
       "      <th>resale_price</th>\n",
       "      <th>address</th>\n",
       "      <th>year</th>\n",
       "    </tr>\n",
       "  </thead>\n",
       "  <tbody>\n",
       "    <tr>\n",
       "      <th>0</th>\n",
       "      <td>1</td>\n",
       "      <td>ANG MO KIO</td>\n",
       "      <td>3 ROOM</td>\n",
       "      <td>07 TO 09</td>\n",
       "      <td>60.0</td>\n",
       "      <td>Improved</td>\n",
       "      <td>1986</td>\n",
       "      <td>70</td>\n",
       "      <td>255000.0</td>\n",
       "      <td>174 ANG MO KIO AVE 4</td>\n",
       "      <td>2015</td>\n",
       "    </tr>\n",
       "    <tr>\n",
       "      <th>1</th>\n",
       "      <td>1</td>\n",
       "      <td>ANG MO KIO</td>\n",
       "      <td>3 ROOM</td>\n",
       "      <td>01 TO 03</td>\n",
       "      <td>68.0</td>\n",
       "      <td>New Generation</td>\n",
       "      <td>1981</td>\n",
       "      <td>65</td>\n",
       "      <td>275000.0</td>\n",
       "      <td>541 ANG MO KIO AVE 10</td>\n",
       "      <td>2015</td>\n",
       "    </tr>\n",
       "  </tbody>\n",
       "</table>\n",
       "</div>"
      ],
      "text/plain": [
       "   month        town flat_type storey_range  floor_area_sqm      flat_model  \\\n",
       "0      1  ANG MO KIO    3 ROOM     07 TO 09            60.0        Improved   \n",
       "1      1  ANG MO KIO    3 ROOM     01 TO 03            68.0  New Generation   \n",
       "\n",
       "   lease_commence_date remaining_lease  resale_price                address  \\\n",
       "0                 1986              70      255000.0   174 ANG MO KIO AVE 4   \n",
       "1                 1981              65      275000.0  541 ANG MO KIO AVE 10   \n",
       "\n",
       "   year  \n",
       "0  2015  \n",
       "1  2015  "
      ]
     },
     "execution_count": 18,
     "metadata": {},
     "output_type": "execute_result"
    }
   ],
   "source": [
    "df_5.head(2)"
   ]
  },
  {
   "cell_type": "code",
   "execution_count": 19,
   "metadata": {},
   "outputs": [
    {
     "data": {
      "text/plain": [
       "array(['ANG MO KIO', 'BEDOK', 'BISHAN', 'BUKIT BATOK', 'BUKIT MERAH',\n",
       "       'BUKIT PANJANG', 'BUKIT TIMAH', 'CENTRAL AREA', 'CHOA CHU KANG',\n",
       "       'CLEMENTI', 'GEYLANG', 'HOUGANG', 'JURONG EAST', 'JURONG WEST',\n",
       "       'KALLANG/WHAMPOA', 'MARINE PARADE', 'PASIR RIS', 'PUNGGOL',\n",
       "       'QUEENSTOWN', 'SEMBAWANG', 'SENGKANG', 'SERANGOON', 'TAMPINES',\n",
       "       'TOA PAYOH', 'WOODLANDS', 'YISHUN'], dtype=object)"
      ]
     },
     "execution_count": 19,
     "metadata": {},
     "output_type": "execute_result"
    }
   ],
   "source": [
    "df_5[\"town\"].unique()"
   ]
  },
  {
   "cell_type": "code",
   "execution_count": 20,
   "metadata": {},
   "outputs": [
    {
     "data": {
      "text/plain": [
       "26"
      ]
     },
     "execution_count": 20,
     "metadata": {},
     "output_type": "execute_result"
    }
   ],
   "source": [
    "df_5[\"town\"].nunique()"
   ]
  },
  {
   "cell_type": "code",
   "execution_count": 21,
   "metadata": {},
   "outputs": [
    {
     "data": {
      "text/plain": [
       "array(['3 ROOM', '4 ROOM', '5 ROOM', '2 ROOM', 'EXECUTIVE', '1 ROOM',\n",
       "       'MULTI-GENERATION'], dtype=object)"
      ]
     },
     "execution_count": 21,
     "metadata": {},
     "output_type": "execute_result"
    }
   ],
   "source": [
    "df_5[\"flat_type\"].unique()"
   ]
  },
  {
   "cell_type": "code",
   "execution_count": 22,
   "metadata": {},
   "outputs": [
    {
     "data": {
      "text/plain": [
       "7"
      ]
     },
     "execution_count": 22,
     "metadata": {},
     "output_type": "execute_result"
    }
   ],
   "source": [
    "df_5[\"flat_type\"].nunique()"
   ]
  },
  {
   "cell_type": "code",
   "execution_count": 23,
   "metadata": {},
   "outputs": [
    {
     "data": {
      "text/plain": [
       "array(['Improved', 'New Generation', 'Model A', 'Standard', 'Simplified',\n",
       "       'Premium Apartment', 'Maisonette', 'Apartment', 'Model A2',\n",
       "       'Type S1', 'Type S2', 'Adjoined flat', 'Terrace', 'DBSS',\n",
       "       'Model A-Maisonette', 'Premium Maisonette', 'Multi Generation',\n",
       "       'Premium Apartment Loft', 'Improved-Maisonette', '2-room', '3Gen'],\n",
       "      dtype=object)"
      ]
     },
     "execution_count": 23,
     "metadata": {},
     "output_type": "execute_result"
    }
   ],
   "source": [
    "df_5[\"flat_model\"].unique()"
   ]
  },
  {
   "cell_type": "code",
   "execution_count": 24,
   "metadata": {},
   "outputs": [
    {
     "data": {
      "text/plain": [
       "21"
      ]
     },
     "execution_count": 24,
     "metadata": {},
     "output_type": "execute_result"
    }
   ],
   "source": [
    "df_5[\"flat_model\"].nunique()"
   ]
  },
  {
   "cell_type": "code",
   "execution_count": 25,
   "metadata": {},
   "outputs": [],
   "source": [
    "# choosing the \"LabelEncoder\" for \"town\",and \"OrdinalEncoder\" for the \"flat_model\" and the \"flat_type\"\n",
    "df_5[\"town\"]= LabelEncoder().fit_transform(df_5[\"town\"])\n",
    "df_5[\"flat_model\"]= OrdinalEncoder().fit_transform(df_5[[\"flat_model\"]])\n",
    "df_5[\"flat_type\"]= OrdinalEncoder().fit_transform(df_5[[\"flat_type\"]])"
   ]
  },
  {
   "cell_type": "code",
   "execution_count": 26,
   "metadata": {},
   "outputs": [
    {
     "data": {
      "text/plain": [
       "array([ 0,  1,  2,  3,  4,  5,  6,  7,  8,  9, 10, 11, 12, 13, 14, 15, 16,\n",
       "       17, 18, 19, 20, 21, 22, 23, 24, 25])"
      ]
     },
     "execution_count": 26,
     "metadata": {},
     "output_type": "execute_result"
    }
   ],
   "source": [
    "df_5[\"town\"].unique()"
   ]
  },
  {
   "cell_type": "code",
   "execution_count": 27,
   "metadata": {},
   "outputs": [
    {
     "data": {
      "text/plain": [
       "array([2., 3., 4., 1., 5., 0., 6.])"
      ]
     },
     "execution_count": 27,
     "metadata": {},
     "output_type": "execute_result"
    }
   ],
   "source": [
    "df_5[\"flat_type\"].unique()"
   ]
  },
  {
   "cell_type": "code",
   "execution_count": 28,
   "metadata": {},
   "outputs": [
    {
     "data": {
      "text/plain": [
       "array([ 5., 12.,  8., 17., 16., 13.,  7.,  3., 10., 19., 20.,  2., 18.,\n",
       "        4.,  9., 15., 11., 14.,  6.,  0.,  1.])"
      ]
     },
     "execution_count": 28,
     "metadata": {},
     "output_type": "execute_result"
    }
   ],
   "source": [
    "df_5[\"flat_model\"].unique()"
   ]
  },
  {
   "cell_type": "code",
   "execution_count": 29,
   "metadata": {},
   "outputs": [
    {
     "data": {
      "text/html": [
       "<div>\n",
       "<style scoped>\n",
       "    .dataframe tbody tr th:only-of-type {\n",
       "        vertical-align: middle;\n",
       "    }\n",
       "\n",
       "    .dataframe tbody tr th {\n",
       "        vertical-align: top;\n",
       "    }\n",
       "\n",
       "    .dataframe thead th {\n",
       "        text-align: right;\n",
       "    }\n",
       "</style>\n",
       "<table border=\"1\" class=\"dataframe\">\n",
       "  <thead>\n",
       "    <tr style=\"text-align: right;\">\n",
       "      <th></th>\n",
       "      <th>month</th>\n",
       "      <th>town</th>\n",
       "      <th>flat_type</th>\n",
       "      <th>storey_range</th>\n",
       "      <th>floor_area_sqm</th>\n",
       "      <th>flat_model</th>\n",
       "      <th>lease_commence_date</th>\n",
       "      <th>remaining_lease</th>\n",
       "      <th>resale_price</th>\n",
       "      <th>address</th>\n",
       "      <th>year</th>\n",
       "    </tr>\n",
       "  </thead>\n",
       "  <tbody>\n",
       "    <tr>\n",
       "      <th>215062</th>\n",
       "      <td>2</td>\n",
       "      <td>25</td>\n",
       "      <td>6.0</td>\n",
       "      <td>04 TO 06</td>\n",
       "      <td>164.0</td>\n",
       "      <td>11.0</td>\n",
       "      <td>1987</td>\n",
       "      <td>62 years 11 months</td>\n",
       "      <td>998000.0</td>\n",
       "      <td>666 YISHUN AVE 4</td>\n",
       "      <td>2024</td>\n",
       "    </tr>\n",
       "    <tr>\n",
       "      <th>215063</th>\n",
       "      <td>3</td>\n",
       "      <td>25</td>\n",
       "      <td>6.0</td>\n",
       "      <td>10 TO 12</td>\n",
       "      <td>164.0</td>\n",
       "      <td>11.0</td>\n",
       "      <td>1987</td>\n",
       "      <td>62 years 09 months</td>\n",
       "      <td>1200000.0</td>\n",
       "      <td>666 YISHUN AVE 4</td>\n",
       "      <td>2024</td>\n",
       "    </tr>\n",
       "  </tbody>\n",
       "</table>\n",
       "</div>"
      ],
      "text/plain": [
       "        month  town  flat_type storey_range  floor_area_sqm  flat_model  \\\n",
       "215062      2    25        6.0     04 TO 06           164.0        11.0   \n",
       "215063      3    25        6.0     10 TO 12           164.0        11.0   \n",
       "\n",
       "        lease_commence_date     remaining_lease  resale_price  \\\n",
       "215062                 1987  62 years 11 months      998000.0   \n",
       "215063                 1987  62 years 09 months     1200000.0   \n",
       "\n",
       "                 address  year  \n",
       "215062  666 YISHUN AVE 4  2024  \n",
       "215063  666 YISHUN AVE 4  2024  "
      ]
     },
     "execution_count": 29,
     "metadata": {},
     "output_type": "execute_result"
    }
   ],
   "source": [
    "df_5.tail(2)"
   ]
  },
  {
   "cell_type": "code",
   "execution_count": 30,
   "metadata": {},
   "outputs": [],
   "source": [
    "df_5[[\"storey_start\", \"storey_end\"]]= df_4[\"storey_range\"].str.split(\" TO \",expand=True)"
   ]
  },
  {
   "cell_type": "code",
   "execution_count": 31,
   "metadata": {},
   "outputs": [],
   "source": [
    "#droping the \"storey_range\" column\n",
    "df_5.drop(columns=[\"storey_range\"],inplace= True)"
   ]
  },
  {
   "cell_type": "code",
   "execution_count": 32,
   "metadata": {},
   "outputs": [
    {
     "data": {
      "text/html": [
       "<div>\n",
       "<style scoped>\n",
       "    .dataframe tbody tr th:only-of-type {\n",
       "        vertical-align: middle;\n",
       "    }\n",
       "\n",
       "    .dataframe tbody tr th {\n",
       "        vertical-align: top;\n",
       "    }\n",
       "\n",
       "    .dataframe thead th {\n",
       "        text-align: right;\n",
       "    }\n",
       "</style>\n",
       "<table border=\"1\" class=\"dataframe\">\n",
       "  <thead>\n",
       "    <tr style=\"text-align: right;\">\n",
       "      <th></th>\n",
       "      <th>month</th>\n",
       "      <th>town</th>\n",
       "      <th>flat_type</th>\n",
       "      <th>floor_area_sqm</th>\n",
       "      <th>flat_model</th>\n",
       "      <th>lease_commence_date</th>\n",
       "      <th>remaining_lease</th>\n",
       "      <th>resale_price</th>\n",
       "      <th>address</th>\n",
       "      <th>year</th>\n",
       "      <th>storey_start</th>\n",
       "      <th>storey_end</th>\n",
       "    </tr>\n",
       "  </thead>\n",
       "  <tbody>\n",
       "    <tr>\n",
       "      <th>0</th>\n",
       "      <td>1</td>\n",
       "      <td>0</td>\n",
       "      <td>2.0</td>\n",
       "      <td>60.0</td>\n",
       "      <td>5.0</td>\n",
       "      <td>1986</td>\n",
       "      <td>70</td>\n",
       "      <td>255000.0</td>\n",
       "      <td>174 ANG MO KIO AVE 4</td>\n",
       "      <td>2015</td>\n",
       "      <td>07</td>\n",
       "      <td>09</td>\n",
       "    </tr>\n",
       "    <tr>\n",
       "      <th>1</th>\n",
       "      <td>1</td>\n",
       "      <td>0</td>\n",
       "      <td>2.0</td>\n",
       "      <td>68.0</td>\n",
       "      <td>12.0</td>\n",
       "      <td>1981</td>\n",
       "      <td>65</td>\n",
       "      <td>275000.0</td>\n",
       "      <td>541 ANG MO KIO AVE 10</td>\n",
       "      <td>2015</td>\n",
       "      <td>01</td>\n",
       "      <td>03</td>\n",
       "    </tr>\n",
       "  </tbody>\n",
       "</table>\n",
       "</div>"
      ],
      "text/plain": [
       "   month  town  flat_type  floor_area_sqm  flat_model  lease_commence_date  \\\n",
       "0      1     0        2.0            60.0         5.0                 1986   \n",
       "1      1     0        2.0            68.0        12.0                 1981   \n",
       "\n",
       "  remaining_lease  resale_price                address  year storey_start  \\\n",
       "0              70      255000.0   174 ANG MO KIO AVE 4  2015           07   \n",
       "1              65      275000.0  541 ANG MO KIO AVE 10  2015           01   \n",
       "\n",
       "  storey_end  \n",
       "0         09  \n",
       "1         03  "
      ]
     },
     "execution_count": 32,
     "metadata": {},
     "output_type": "execute_result"
    }
   ],
   "source": [
    "df_5.head(2)"
   ]
  },
  {
   "cell_type": "code",
   "execution_count": 33,
   "metadata": {},
   "outputs": [
    {
     "data": {
      "text/plain": [
       "9585"
      ]
     },
     "execution_count": 33,
     "metadata": {},
     "output_type": "execute_result"
    }
   ],
   "source": [
    "df_5[\"address\"].nunique()"
   ]
  },
  {
   "cell_type": "code",
   "execution_count": 34,
   "metadata": {},
   "outputs": [
    {
     "data": {
      "text/plain": [
       "215064"
      ]
     },
     "execution_count": 34,
     "metadata": {},
     "output_type": "execute_result"
    }
   ],
   "source": [
    "df_5[\"address\"].count()"
   ]
  },
  {
   "cell_type": "markdown",
   "metadata": {},
   "source": [
    "# Address have 9585 unique values in the 215064 , so i am encoding it for the correlation checking\n",
    "# I am  choosing the \"LabelEncoder\" for the \"address\" column"
   ]
  },
  {
   "cell_type": "code",
   "execution_count": 35,
   "metadata": {},
   "outputs": [],
   "source": [
    "df_5[\"address\"]= LabelEncoder().fit_transform(df_5[\"address\"])"
   ]
  },
  {
   "cell_type": "code",
   "execution_count": 36,
   "metadata": {},
   "outputs": [],
   "source": [
    "df_5[\"storey_start\"]= df_5[\"storey_start\"].astype(int)\n",
    "df_5[\"storey_end\"]= df_5[\"storey_end\"].astype(int)"
   ]
  },
  {
   "cell_type": "code",
   "execution_count": 37,
   "metadata": {},
   "outputs": [],
   "source": [
    "# \"remaining_lease\" have a \"60 years 8 months\" this type of data ,\n",
    "# so we want to split the year and month separately for the correlation checking\n",
    "slice_values= []\n",
    "for i in df_5[\"remaining_lease\"].astype(str):\n",
    "    j= i.replace(\"years\",\"\")\n",
    "    k= j.replace(\"months\",\"\")\n",
    "    l= k.replace(\"month\",\"\")\n",
    "    m= l.strip()\n",
    "    n= m.split(\"  \")\n",
    "    slice_values.append(n)"
   ]
  },
  {
   "cell_type": "code",
   "execution_count": 38,
   "metadata": {},
   "outputs": [
    {
     "name": "stdout",
     "output_type": "stream",
     "text": [
      "0                         70\n",
      "1                         65\n",
      "2                         64\n",
      "3                         63\n",
      "4                         64\n",
      "                 ...        \n",
      "215059    62 years 08 months\n",
      "215060    62 years 10 months\n",
      "215061    62 years 10 months\n",
      "215062    62 years 11 months\n",
      "215063    62 years 09 months\n",
      "Name: remaining_lease, Length: 215064, dtype: object\n"
     ]
    }
   ],
   "source": [
    "print(df_5[\"remaining_lease\"])"
   ]
  },
  {
   "cell_type": "code",
   "execution_count": 39,
   "metadata": {},
   "outputs": [],
   "source": [
    "df_data= pd.DataFrame(slice_values,columns=[\"remaining_lease_year\", \"remaining_lease_month\"])"
   ]
  },
  {
   "cell_type": "code",
   "execution_count": 40,
   "metadata": {},
   "outputs": [],
   "source": [
    "df_data[\"remaining_lease_year\"]= df_data[\"remaining_lease_year\"].astype(int)\n",
    "df_data[\"remaining_lease_month\"]= df_data[\"remaining_lease_month\"].fillna(0).astype(int)"
   ]
  },
  {
   "cell_type": "code",
   "execution_count": 41,
   "metadata": {},
   "outputs": [],
   "source": [
    "#droping the \"remaining_lease\" column\n",
    "df_5.drop(columns=[\"remaining_lease\"],inplace= True)\n"
   ]
  },
  {
   "cell_type": "code",
   "execution_count": 42,
   "metadata": {},
   "outputs": [],
   "source": [
    "df_6= pd.concat([df_5,df_data],axis=1)"
   ]
  },
  {
   "cell_type": "code",
   "execution_count": 43,
   "metadata": {},
   "outputs": [
    {
     "data": {
      "text/plain": [
       "Index(['month', 'town', 'flat_type', 'floor_area_sqm', 'flat_model',\n",
       "       'lease_commence_date', 'resale_price', 'address', 'year',\n",
       "       'storey_start', 'storey_end', 'remaining_lease_year',\n",
       "       'remaining_lease_month'],\n",
       "      dtype='object')"
      ]
     },
     "execution_count": 43,
     "metadata": {},
     "output_type": "execute_result"
    }
   ],
   "source": [
    "df_6.columns "
   ]
  },
  {
   "cell_type": "code",
   "execution_count": 44,
   "metadata": {},
   "outputs": [],
   "source": [
    "# set the columns\n",
    "df_7= df_6[['year','month', 'town', 'flat_type', 'floor_area_sqm', 'flat_model', 'address', \n",
    "       'storey_start', 'storey_end', 'remaining_lease_year','remaining_lease_month',\n",
    "       'lease_commence_date', 'resale_price']]"
   ]
  },
  {
   "cell_type": "code",
   "execution_count": 45,
   "metadata": {},
   "outputs": [],
   "source": [
    "df_8=df_7.sort_values(by=[\"year\",\"month\"])"
   ]
  },
  {
   "cell_type": "code",
   "execution_count": 46,
   "metadata": {},
   "outputs": [],
   "source": [
    "df_8.to_csv(\"ResaleFlatPrices.csv\", index= False)"
   ]
  },
  {
   "cell_type": "code",
   "execution_count": 86,
   "metadata": {},
   "outputs": [
    {
     "data": {
      "image/png": "[encoded data removed]",
      "text/plain": [
       "<Figure size 1000x500 with 2 Axes>"
      ]
     },
     "metadata": {},
     "output_type": "display_data"
    }
   ],
   "source": [
    "# Checking the Correlation using heatmap\n",
    "\n",
    "df_8_corr= df_8.corr()\n",
    "plt.figure(figsize=(10,5))\n",
    "sns.heatmap(df_8_corr,annot= True, cmap=\"Greens\", fmt=\".2f\")\n",
    "plt.show()"
   ]
  },
  {
   "cell_type": "code",
   "execution_count": 47,
   "metadata": {},
   "outputs": [
    {
     "data": {
      "text/html": [
       "<div>\n",
       "<style scoped>\n",
       "    .dataframe tbody tr th:only-of-type {\n",
       "        vertical-align: middle;\n",
       "    }\n",
       "\n",
       "    .dataframe tbody tr th {\n",
       "        vertical-align: top;\n",
       "    }\n",
       "\n",
       "    .dataframe thead th {\n",
       "        text-align: right;\n",
       "    }\n",
       "</style>\n",
       "<table border=\"1\" class=\"dataframe\">\n",
       "  <thead>\n",
       "    <tr style=\"text-align: right;\">\n",
       "      <th></th>\n",
       "      <th>year</th>\n",
       "      <th>month</th>\n",
       "      <th>town</th>\n",
       "      <th>flat_type</th>\n",
       "      <th>floor_area_sqm</th>\n",
       "      <th>flat_model</th>\n",
       "      <th>address</th>\n",
       "      <th>storey_start</th>\n",
       "      <th>storey_end</th>\n",
       "      <th>remaining_lease_year</th>\n",
       "      <th>remaining_lease_month</th>\n",
       "      <th>lease_commence_date</th>\n",
       "      <th>resale_price</th>\n",
       "    </tr>\n",
       "  </thead>\n",
       "  <tbody>\n",
       "    <tr>\n",
       "      <th>0</th>\n",
       "      <td>2015</td>\n",
       "      <td>1</td>\n",
       "      <td>0</td>\n",
       "      <td>2.0</td>\n",
       "      <td>60.0</td>\n",
       "      <td>5.0</td>\n",
       "      <td>1634</td>\n",
       "      <td>7</td>\n",
       "      <td>9</td>\n",
       "      <td>70</td>\n",
       "      <td>0</td>\n",
       "      <td>1986</td>\n",
       "      <td>255000.0</td>\n",
       "    </tr>\n",
       "    <tr>\n",
       "      <th>1</th>\n",
       "      <td>2015</td>\n",
       "      <td>1</td>\n",
       "      <td>0</td>\n",
       "      <td>2.0</td>\n",
       "      <td>68.0</td>\n",
       "      <td>12.0</td>\n",
       "      <td>6592</td>\n",
       "      <td>1</td>\n",
       "      <td>3</td>\n",
       "      <td>65</td>\n",
       "      <td>0</td>\n",
       "      <td>1981</td>\n",
       "      <td>275000.0</td>\n",
       "    </tr>\n",
       "  </tbody>\n",
       "</table>\n",
       "</div>"
      ],
      "text/plain": [
       "   year  month  town  flat_type  floor_area_sqm  flat_model  address  \\\n",
       "0  2015      1     0        2.0            60.0         5.0     1634   \n",
       "1  2015      1     0        2.0            68.0        12.0     6592   \n",
       "\n",
       "   storey_start  storey_end  remaining_lease_year  remaining_lease_month  \\\n",
       "0             7           9                    70                      0   \n",
       "1             1           3                    65                      0   \n",
       "\n",
       "   lease_commence_date  resale_price  \n",
       "0                 1986      255000.0  \n",
       "1                 1981      275000.0  "
      ]
     },
     "execution_count": 47,
     "metadata": {},
     "output_type": "execute_result"
    }
   ],
   "source": [
    "df_final= pd.read_csv(\"C:/Users/L/Desktop/signapore_resale_project/ResaleFlatPrices.csv\")\n",
    "df_final.head(2)"
   ]
  },
  {
   "cell_type": "code",
   "execution_count": 48,
   "metadata": {},
   "outputs": [
    {
     "data": {
      "text/plain": [
       "308"
      ]
     },
     "execution_count": 48,
     "metadata": {},
     "output_type": "execute_result"
    }
   ],
   "source": [
    "# checking the duplicate values\n",
    "df_final.duplicated().sum()"
   ]
  },
  {
   "cell_type": "code",
   "execution_count": 49,
   "metadata": {},
   "outputs": [],
   "source": [
    "df_final_1= df_final.drop_duplicates()\n",
    "df_final_1.reset_index(drop= True, inplace= True)"
   ]
  },
  {
   "cell_type": "code",
   "execution_count": 130,
   "metadata": {},
   "outputs": [],
   "source": [
    "# The month,address column does have very lowest correlation with other features\n",
    "# So I drop the month and address columns\n",
    "\n",
    "\n"
   ]
  },
  {
   "cell_type": "code",
   "execution_count": 50,
   "metadata": {},
   "outputs": [],
   "source": [
    "df_final_2= df_final_1.drop(columns=[\"month\",\"address\"])"
   ]
  },
  {
   "cell_type": "code",
   "execution_count": 51,
   "metadata": {},
   "outputs": [
    {
     "data": {
      "text/html": [
       "<div>\n",
       "<style scoped>\n",
       "    .dataframe tbody tr th:only-of-type {\n",
       "        vertical-align: middle;\n",
       "    }\n",
       "\n",
       "    .dataframe tbody tr th {\n",
       "        vertical-align: top;\n",
       "    }\n",
       "\n",
       "    .dataframe thead th {\n",
       "        text-align: right;\n",
       "    }\n",
       "</style>\n",
       "<table border=\"1\" class=\"dataframe\">\n",
       "  <thead>\n",
       "    <tr style=\"text-align: right;\">\n",
       "      <th></th>\n",
       "      <th>year</th>\n",
       "      <th>town</th>\n",
       "      <th>flat_type</th>\n",
       "      <th>floor_area_sqm</th>\n",
       "      <th>flat_model</th>\n",
       "      <th>storey_start</th>\n",
       "      <th>storey_end</th>\n",
       "      <th>remaining_lease_year</th>\n",
       "      <th>remaining_lease_month</th>\n",
       "      <th>lease_commence_date</th>\n",
       "      <th>resale_price</th>\n",
       "    </tr>\n",
       "  </thead>\n",
       "  <tbody>\n",
       "    <tr>\n",
       "      <th>214754</th>\n",
       "      <td>2024</td>\n",
       "      <td>25</td>\n",
       "      <td>5.0</td>\n",
       "      <td>146.0</td>\n",
       "      <td>7.0</td>\n",
       "      <td>4</td>\n",
       "      <td>6</td>\n",
       "      <td>62</td>\n",
       "      <td>10</td>\n",
       "      <td>1988</td>\n",
       "      <td>900000.0</td>\n",
       "    </tr>\n",
       "    <tr>\n",
       "      <th>214755</th>\n",
       "      <td>2024</td>\n",
       "      <td>25</td>\n",
       "      <td>5.0</td>\n",
       "      <td>142.0</td>\n",
       "      <td>3.0</td>\n",
       "      <td>4</td>\n",
       "      <td>6</td>\n",
       "      <td>62</td>\n",
       "      <td>10</td>\n",
       "      <td>1988</td>\n",
       "      <td>805000.0</td>\n",
       "    </tr>\n",
       "  </tbody>\n",
       "</table>\n",
       "</div>"
      ],
      "text/plain": [
       "        year  town  flat_type  floor_area_sqm  flat_model  storey_start  \\\n",
       "214754  2024    25        5.0           146.0         7.0             4   \n",
       "214755  2024    25        5.0           142.0         3.0             4   \n",
       "\n",
       "        storey_end  remaining_lease_year  remaining_lease_month  \\\n",
       "214754           6                    62                     10   \n",
       "214755           6                    62                     10   \n",
       "\n",
       "        lease_commence_date  resale_price  \n",
       "214754                 1988      900000.0  \n",
       "214755                 1988      805000.0  "
      ]
     },
     "execution_count": 51,
     "metadata": {},
     "output_type": "execute_result"
    }
   ],
   "source": [
    "df_final_2.tail(2)"
   ]
  },
  {
   "cell_type": "code",
   "execution_count": 52,
   "metadata": {},
   "outputs": [],
   "source": [
    "# detecting the skewed columns using plot\n",
    "def plot(df,column):\n",
    "  #distplot\n",
    "  plt.figure(figsize=(15,4))\n",
    "  plt.subplot(1,3,1)\n",
    "  sns.distplot(df[column])\n",
    "  plt.title(\"distplot for\"+\" \"+column)\n",
    "\n",
    "  #histogram plot\n",
    "\n",
    "  plt.subplot(1,3,2)\n",
    "  sns.histplot(df, x= column, kde= True, bins=30,color=\"salmon\")\n",
    "  plt.title(\"histogram plot for\"+\" \"+column)\n",
    "\n",
    "  #boxplot\n",
    "\n",
    "  plt.subplot(1,3,3)\n",
    "\n",
    "  sns.boxplot(df, x=column)\n",
    "  plt.title(\"Box plot for\"+\" \"+column)"
   ]
  },
  {
   "cell_type": "code",
   "execution_count": null,
   "metadata": {},
   "outputs": [],
   "source": [
    "#for i in df_final_2.columns:\n",
    "    #plot(df_final_2,i)"
   ]
  },
  {
   "cell_type": "code",
   "execution_count": 53,
   "metadata": {},
   "outputs": [
    {
     "data": {
      "text/html": [
       "<div>\n",
       "<style scoped>\n",
       "    .dataframe tbody tr th:only-of-type {\n",
       "        vertical-align: middle;\n",
       "    }\n",
       "\n",
       "    .dataframe tbody tr th {\n",
       "        vertical-align: top;\n",
       "    }\n",
       "\n",
       "    .dataframe thead th {\n",
       "        text-align: right;\n",
       "    }\n",
       "</style>\n",
       "<table border=\"1\" class=\"dataframe\">\n",
       "  <thead>\n",
       "    <tr style=\"text-align: right;\">\n",
       "      <th></th>\n",
       "      <th>count</th>\n",
       "      <th>mean</th>\n",
       "      <th>std</th>\n",
       "      <th>min</th>\n",
       "      <th>25%</th>\n",
       "      <th>50%</th>\n",
       "      <th>75%</th>\n",
       "      <th>max</th>\n",
       "    </tr>\n",
       "  </thead>\n",
       "  <tbody>\n",
       "    <tr>\n",
       "      <th>year</th>\n",
       "      <td>214756.0</td>\n",
       "      <td>2019.544320</td>\n",
       "      <td>2.650223</td>\n",
       "      <td>2015.0</td>\n",
       "      <td>2017.0</td>\n",
       "      <td>2020.0</td>\n",
       "      <td>2022.0</td>\n",
       "      <td>2024.0</td>\n",
       "    </tr>\n",
       "    <tr>\n",
       "      <th>town</th>\n",
       "      <td>214756.0</td>\n",
       "      <td>13.895770</td>\n",
       "      <td>7.956038</td>\n",
       "      <td>0.0</td>\n",
       "      <td>8.0</td>\n",
       "      <td>14.0</td>\n",
       "      <td>21.0</td>\n",
       "      <td>25.0</td>\n",
       "    </tr>\n",
       "    <tr>\n",
       "      <th>flat_type</th>\n",
       "      <td>214756.0</td>\n",
       "      <td>3.121855</td>\n",
       "      <td>0.919275</td>\n",
       "      <td>0.0</td>\n",
       "      <td>2.0</td>\n",
       "      <td>3.0</td>\n",
       "      <td>4.0</td>\n",
       "      <td>6.0</td>\n",
       "    </tr>\n",
       "    <tr>\n",
       "      <th>floor_area_sqm</th>\n",
       "      <td>214756.0</td>\n",
       "      <td>97.162959</td>\n",
       "      <td>24.058523</td>\n",
       "      <td>31.0</td>\n",
       "      <td>82.0</td>\n",
       "      <td>94.0</td>\n",
       "      <td>112.0</td>\n",
       "      <td>280.0</td>\n",
       "    </tr>\n",
       "    <tr>\n",
       "      <th>flat_model</th>\n",
       "      <td>214756.0</td>\n",
       "      <td>8.694034</td>\n",
       "      <td>3.648788</td>\n",
       "      <td>0.0</td>\n",
       "      <td>5.0</td>\n",
       "      <td>8.0</td>\n",
       "      <td>12.0</td>\n",
       "      <td>20.0</td>\n",
       "    </tr>\n",
       "    <tr>\n",
       "      <th>storey_start</th>\n",
       "      <td>214756.0</td>\n",
       "      <td>7.657202</td>\n",
       "      <td>5.845449</td>\n",
       "      <td>1.0</td>\n",
       "      <td>4.0</td>\n",
       "      <td>7.0</td>\n",
       "      <td>10.0</td>\n",
       "      <td>49.0</td>\n",
       "    </tr>\n",
       "    <tr>\n",
       "      <th>storey_end</th>\n",
       "      <td>214756.0</td>\n",
       "      <td>9.657202</td>\n",
       "      <td>5.845449</td>\n",
       "      <td>3.0</td>\n",
       "      <td>6.0</td>\n",
       "      <td>9.0</td>\n",
       "      <td>12.0</td>\n",
       "      <td>51.0</td>\n",
       "    </tr>\n",
       "    <tr>\n",
       "      <th>remaining_lease_year</th>\n",
       "      <td>214756.0</td>\n",
       "      <td>74.124607</td>\n",
       "      <td>13.448358</td>\n",
       "      <td>41.0</td>\n",
       "      <td>63.0</td>\n",
       "      <td>74.0</td>\n",
       "      <td>85.0</td>\n",
       "      <td>97.0</td>\n",
       "    </tr>\n",
       "    <tr>\n",
       "      <th>remaining_lease_month</th>\n",
       "      <td>214756.0</td>\n",
       "      <td>4.587564</td>\n",
       "      <td>3.784193</td>\n",
       "      <td>0.0</td>\n",
       "      <td>1.0</td>\n",
       "      <td>4.0</td>\n",
       "      <td>8.0</td>\n",
       "      <td>11.0</td>\n",
       "    </tr>\n",
       "    <tr>\n",
       "      <th>lease_commence_date</th>\n",
       "      <td>214756.0</td>\n",
       "      <td>1995.105310</td>\n",
       "      <td>13.655796</td>\n",
       "      <td>1966.0</td>\n",
       "      <td>1985.0</td>\n",
       "      <td>1995.0</td>\n",
       "      <td>2005.0</td>\n",
       "      <td>2022.0</td>\n",
       "    </tr>\n",
       "    <tr>\n",
       "      <th>resale_price</th>\n",
       "      <td>214756.0</td>\n",
       "      <td>485746.088327</td>\n",
       "      <td>167693.534487</td>\n",
       "      <td>140000.0</td>\n",
       "      <td>362500.0</td>\n",
       "      <td>451000.0</td>\n",
       "      <td>577500.0</td>\n",
       "      <td>1568888.0</td>\n",
       "    </tr>\n",
       "  </tbody>\n",
       "</table>\n",
       "</div>"
      ],
      "text/plain": [
       "                          count           mean            std       min  \\\n",
       "year                   214756.0    2019.544320       2.650223    2015.0   \n",
       "town                   214756.0      13.895770       7.956038       0.0   \n",
       "flat_type              214756.0       3.121855       0.919275       0.0   \n",
       "floor_area_sqm         214756.0      97.162959      24.058523      31.0   \n",
       "flat_model             214756.0       8.694034       3.648788       0.0   \n",
       "storey_start           214756.0       7.657202       5.845449       1.0   \n",
       "storey_end             214756.0       9.657202       5.845449       3.0   \n",
       "remaining_lease_year   214756.0      74.124607      13.448358      41.0   \n",
       "remaining_lease_month  214756.0       4.587564       3.784193       0.0   \n",
       "lease_commence_date    214756.0    1995.105310      13.655796    1966.0   \n",
       "resale_price           214756.0  485746.088327  167693.534487  140000.0   \n",
       "\n",
       "                            25%       50%       75%        max  \n",
       "year                     2017.0    2020.0    2022.0     2024.0  \n",
       "town                        8.0      14.0      21.0       25.0  \n",
       "flat_type                   2.0       3.0       4.0        6.0  \n",
       "floor_area_sqm             82.0      94.0     112.0      280.0  \n",
       "flat_model                  5.0       8.0      12.0       20.0  \n",
       "storey_start                4.0       7.0      10.0       49.0  \n",
       "storey_end                  6.0       9.0      12.0       51.0  \n",
       "remaining_lease_year       63.0      74.0      85.0       97.0  \n",
       "remaining_lease_month       1.0       4.0       8.0       11.0  \n",
       "lease_commence_date      1985.0    1995.0    2005.0     2022.0  \n",
       "resale_price           362500.0  451000.0  577500.0  1568888.0  "
      ]
     },
     "execution_count": 53,
     "metadata": {},
     "output_type": "execute_result"
    }
   ],
   "source": [
    "df_final_2.describe().T"
   ]
  },
  {
   "cell_type": "markdown",
   "metadata": {},
   "source": [
    "# skewness handling\n",
    "\n",
    "# The Skewness Columns are\n",
    "# 2. storey_start\n",
    "# 3. storey_end\n",
    "# 4. resale_price"
   ]
  },
  {
   "cell_type": "code",
   "execution_count": 54,
   "metadata": {},
   "outputs": [],
   "source": [
    "df_final_3= df_final_2.copy()"
   ]
  },
  {
   "cell_type": "code",
   "execution_count": 55,
   "metadata": {},
   "outputs": [],
   "source": [
    "df_final_3[\"storey_start\"]= np.log(df_final_3[\"storey_start\"])\n",
    "df_final_3[\"storey_end\"]= np.log(df_final_3[\"storey_end\"])\n",
    "df_final_3[\"resale_price\"]= np.log(df_final_3[\"resale_price\"])"
   ]
  },
  {
   "cell_type": "code",
   "execution_count": null,
   "metadata": {},
   "outputs": [],
   "source": [
    "#skewed_columns=[\"storey_start\",\"storey_end\",\"resale_price\"]\n",
    "#for i in skewed_columns:\n",
    "    #plot(df_final_3,i)"
   ]
  },
  {
   "cell_type": "markdown",
   "metadata": {},
   "source": [
    " # Outliers Handling - Interquartile Range(IQR) Method"
   ]
  },
  {
   "cell_type": "code",
   "execution_count": null,
   "metadata": {},
   "outputs": [],
   "source": [
    "# The Outlier Columns are\n",
    "# 1. floor_area_sqm\n",
    "# 2. storey_start\n",
    "# 3. sortey_end\n",
    "# 4. resale_price\n",
    "# Recorrect the Outliers"
   ]
  },
  {
   "cell_type": "code",
   "execution_count": null,
   "metadata": {},
   "outputs": [],
   "source": [
    "# (Ex: lower threshold = 5 and upper threshold = 20)\n",
    "# above upper threshold values (>20) are converted to upper threshold value (20) in features\n",
    "# below lower threshold values (<5)  are converted to lower threshold value (5)  in features"
   ]
  },
  {
   "cell_type": "code",
   "execution_count": 56,
   "metadata": {},
   "outputs": [],
   "source": [
    "df_final_4= df_final_3.copy()"
   ]
  },
  {
   "cell_type": "code",
   "execution_count": 57,
   "metadata": {},
   "outputs": [],
   "source": [
    "def outlier(df,column):\n",
    "  q1= df[column].quantile(0.25)\n",
    "  q3= df[column].quantile(0.75)\n",
    "\n",
    "  iqr= q3-q1\n",
    "\n",
    "  upper_threshold= q3 + (1.5*iqr)\n",
    "  lower_threshold= q1 - (1.5*iqr)\n",
    "\n",
    "  df[column]= df[column].clip(lower_threshold, upper_threshold)"
   ]
  },
  {
   "cell_type": "code",
   "execution_count": null,
   "metadata": {},
   "outputs": [],
   "source": [
    "#outlier_columns=[\"floor_area_sqm\",\"storey_start\",\"storey_end\",\"resale_price\"]\n",
    "#for j in outlier_columns:\n",
    "    #outlier(df_final_4,j)"
   ]
  },
  {
   "cell_type": "code",
   "execution_count": null,
   "metadata": {},
   "outputs": [],
   "source": [
    "#for k in outlier_columns:\n",
    "    #plot(df_final_4,k)"
   ]
  },
  {
   "cell_type": "code",
   "execution_count": 99,
   "metadata": {},
   "outputs": [
    {
     "data": {
      "image/png": "[encoded data removed]",
      "text/plain": [
       "<Figure size 1000x500 with 2 Axes>"
      ]
     },
     "metadata": {},
     "output_type": "display_data"
    }
   ],
   "source": [
    "# Checking the correlation after the outlier recorrection\n",
    "plt.figure(figsize=(10,5))\n",
    "sns.heatmap(df_final_4.corr(), annot= True, cmap=\"Greens\", fmt=\"0.2f\")\n",
    "plt.show()"
   ]
  },
  {
   "cell_type": "code",
   "execution_count": null,
   "metadata": {},
   "outputs": [],
   "source": [
    "# Model Selection (Regression)"
   ]
  },
  {
   "cell_type": "code",
   "execution_count": 58,
   "metadata": {},
   "outputs": [],
   "source": [
    "df_final_5= df_final_4.copy()"
   ]
  },
  {
   "cell_type": "code",
   "execution_count": 59,
   "metadata": {},
   "outputs": [
    {
     "data": {
      "text/html": [
       "<div>\n",
       "<style scoped>\n",
       "    .dataframe tbody tr th:only-of-type {\n",
       "        vertical-align: middle;\n",
       "    }\n",
       "\n",
       "    .dataframe tbody tr th {\n",
       "        vertical-align: top;\n",
       "    }\n",
       "\n",
       "    .dataframe thead th {\n",
       "        text-align: right;\n",
       "    }\n",
       "</style>\n",
       "<table border=\"1\" class=\"dataframe\">\n",
       "  <thead>\n",
       "    <tr style=\"text-align: right;\">\n",
       "      <th></th>\n",
       "      <th>count</th>\n",
       "      <th>mean</th>\n",
       "      <th>std</th>\n",
       "      <th>min</th>\n",
       "      <th>25%</th>\n",
       "      <th>50%</th>\n",
       "      <th>75%</th>\n",
       "      <th>max</th>\n",
       "    </tr>\n",
       "  </thead>\n",
       "  <tbody>\n",
       "    <tr>\n",
       "      <th>year</th>\n",
       "      <td>214756.0</td>\n",
       "      <td>2019.544320</td>\n",
       "      <td>2.650223</td>\n",
       "      <td>2015.000000</td>\n",
       "      <td>2017.000000</td>\n",
       "      <td>2020.000000</td>\n",
       "      <td>2022.000000</td>\n",
       "      <td>2024.000000</td>\n",
       "    </tr>\n",
       "    <tr>\n",
       "      <th>town</th>\n",
       "      <td>214756.0</td>\n",
       "      <td>13.895770</td>\n",
       "      <td>7.956038</td>\n",
       "      <td>0.000000</td>\n",
       "      <td>8.000000</td>\n",
       "      <td>14.000000</td>\n",
       "      <td>21.000000</td>\n",
       "      <td>25.000000</td>\n",
       "    </tr>\n",
       "    <tr>\n",
       "      <th>flat_type</th>\n",
       "      <td>214756.0</td>\n",
       "      <td>3.121855</td>\n",
       "      <td>0.919275</td>\n",
       "      <td>0.000000</td>\n",
       "      <td>2.000000</td>\n",
       "      <td>3.000000</td>\n",
       "      <td>4.000000</td>\n",
       "      <td>6.000000</td>\n",
       "    </tr>\n",
       "    <tr>\n",
       "      <th>floor_area_sqm</th>\n",
       "      <td>214756.0</td>\n",
       "      <td>97.162959</td>\n",
       "      <td>24.058523</td>\n",
       "      <td>31.000000</td>\n",
       "      <td>82.000000</td>\n",
       "      <td>94.000000</td>\n",
       "      <td>112.000000</td>\n",
       "      <td>280.000000</td>\n",
       "    </tr>\n",
       "    <tr>\n",
       "      <th>flat_model</th>\n",
       "      <td>214756.0</td>\n",
       "      <td>8.694034</td>\n",
       "      <td>3.648788</td>\n",
       "      <td>0.000000</td>\n",
       "      <td>5.000000</td>\n",
       "      <td>8.000000</td>\n",
       "      <td>12.000000</td>\n",
       "      <td>20.000000</td>\n",
       "    </tr>\n",
       "    <tr>\n",
       "      <th>storey_start</th>\n",
       "      <td>214756.0</td>\n",
       "      <td>1.693375</td>\n",
       "      <td>0.924957</td>\n",
       "      <td>0.000000</td>\n",
       "      <td>1.386294</td>\n",
       "      <td>1.945910</td>\n",
       "      <td>2.302585</td>\n",
       "      <td>3.891820</td>\n",
       "    </tr>\n",
       "    <tr>\n",
       "      <th>storey_end</th>\n",
       "      <td>214756.0</td>\n",
       "      <td>2.094084</td>\n",
       "      <td>0.603438</td>\n",
       "      <td>1.098612</td>\n",
       "      <td>1.791759</td>\n",
       "      <td>2.197225</td>\n",
       "      <td>2.484907</td>\n",
       "      <td>3.931826</td>\n",
       "    </tr>\n",
       "    <tr>\n",
       "      <th>remaining_lease_year</th>\n",
       "      <td>214756.0</td>\n",
       "      <td>74.124607</td>\n",
       "      <td>13.448358</td>\n",
       "      <td>41.000000</td>\n",
       "      <td>63.000000</td>\n",
       "      <td>74.000000</td>\n",
       "      <td>85.000000</td>\n",
       "      <td>97.000000</td>\n",
       "    </tr>\n",
       "    <tr>\n",
       "      <th>remaining_lease_month</th>\n",
       "      <td>214756.0</td>\n",
       "      <td>4.587564</td>\n",
       "      <td>3.784193</td>\n",
       "      <td>0.000000</td>\n",
       "      <td>1.000000</td>\n",
       "      <td>4.000000</td>\n",
       "      <td>8.000000</td>\n",
       "      <td>11.000000</td>\n",
       "    </tr>\n",
       "    <tr>\n",
       "      <th>lease_commence_date</th>\n",
       "      <td>214756.0</td>\n",
       "      <td>1995.105310</td>\n",
       "      <td>13.655796</td>\n",
       "      <td>1966.000000</td>\n",
       "      <td>1985.000000</td>\n",
       "      <td>1995.000000</td>\n",
       "      <td>2005.000000</td>\n",
       "      <td>2022.000000</td>\n",
       "    </tr>\n",
       "    <tr>\n",
       "      <th>resale_price</th>\n",
       "      <td>214756.0</td>\n",
       "      <td>13.037831</td>\n",
       "      <td>0.331199</td>\n",
       "      <td>11.849398</td>\n",
       "      <td>12.800780</td>\n",
       "      <td>13.019223</td>\n",
       "      <td>13.266464</td>\n",
       "      <td>14.265878</td>\n",
       "    </tr>\n",
       "  </tbody>\n",
       "</table>\n",
       "</div>"
      ],
      "text/plain": [
       "                          count         mean        std          min  \\\n",
       "year                   214756.0  2019.544320   2.650223  2015.000000   \n",
       "town                   214756.0    13.895770   7.956038     0.000000   \n",
       "flat_type              214756.0     3.121855   0.919275     0.000000   \n",
       "floor_area_sqm         214756.0    97.162959  24.058523    31.000000   \n",
       "flat_model             214756.0     8.694034   3.648788     0.000000   \n",
       "storey_start           214756.0     1.693375   0.924957     0.000000   \n",
       "storey_end             214756.0     2.094084   0.603438     1.098612   \n",
       "remaining_lease_year   214756.0    74.124607  13.448358    41.000000   \n",
       "remaining_lease_month  214756.0     4.587564   3.784193     0.000000   \n",
       "lease_commence_date    214756.0  1995.105310  13.655796  1966.000000   \n",
       "resale_price           214756.0    13.037831   0.331199    11.849398   \n",
       "\n",
       "                               25%          50%          75%          max  \n",
       "year                   2017.000000  2020.000000  2022.000000  2024.000000  \n",
       "town                      8.000000    14.000000    21.000000    25.000000  \n",
       "flat_type                 2.000000     3.000000     4.000000     6.000000  \n",
       "floor_area_sqm           82.000000    94.000000   112.000000   280.000000  \n",
       "flat_model                5.000000     8.000000    12.000000    20.000000  \n",
       "storey_start              1.386294     1.945910     2.302585     3.891820  \n",
       "storey_end                1.791759     2.197225     2.484907     3.931826  \n",
       "remaining_lease_year     63.000000    74.000000    85.000000    97.000000  \n",
       "remaining_lease_month     1.000000     4.000000     8.000000    11.000000  \n",
       "lease_commence_date    1985.000000  1995.000000  2005.000000  2022.000000  \n",
       "resale_price             12.800780    13.019223    13.266464    14.265878  "
      ]
     },
     "execution_count": 59,
     "metadata": {},
     "output_type": "execute_result"
    }
   ],
   "source": [
    "df_final_5.describe().T"
   ]
  },
  {
   "cell_type": "code",
   "execution_count": 60,
   "metadata": {},
   "outputs": [
    {
     "data": {
      "text/plain": [
       "1568888.5551970045"
      ]
     },
     "execution_count": 60,
     "metadata": {},
     "output_type": "execute_result"
    }
   ],
   "source": [
    "np.exp(14.265878)"
   ]
  },
  {
   "cell_type": "code",
   "execution_count": 61,
   "metadata": {},
   "outputs": [
    {
     "data": {
      "text/html": [
       "<div>\n",
       "<style scoped>\n",
       "    .dataframe tbody tr th:only-of-type {\n",
       "        vertical-align: middle;\n",
       "    }\n",
       "\n",
       "    .dataframe tbody tr th {\n",
       "        vertical-align: top;\n",
       "    }\n",
       "\n",
       "    .dataframe thead th {\n",
       "        text-align: right;\n",
       "    }\n",
       "</style>\n",
       "<table border=\"1\" class=\"dataframe\">\n",
       "  <thead>\n",
       "    <tr style=\"text-align: right;\">\n",
       "      <th></th>\n",
       "      <th>year</th>\n",
       "      <th>month</th>\n",
       "      <th>town</th>\n",
       "      <th>flat_type</th>\n",
       "      <th>floor_area_sqm</th>\n",
       "      <th>flat_model</th>\n",
       "      <th>address</th>\n",
       "      <th>storey_start</th>\n",
       "      <th>storey_end</th>\n",
       "      <th>remaining_lease_year</th>\n",
       "      <th>remaining_lease_month</th>\n",
       "      <th>lease_commence_date</th>\n",
       "      <th>resale_price</th>\n",
       "    </tr>\n",
       "  </thead>\n",
       "  <tbody>\n",
       "    <tr>\n",
       "      <th>208217</th>\n",
       "      <td>2024</td>\n",
       "      <td>1</td>\n",
       "      <td>23</td>\n",
       "      <td>4.0</td>\n",
       "      <td>117.0</td>\n",
       "      <td>4.0</td>\n",
       "      <td>1081</td>\n",
       "      <td>40</td>\n",
       "      <td>42</td>\n",
       "      <td>87</td>\n",
       "      <td>4</td>\n",
       "      <td>2012</td>\n",
       "      <td>1568888.0</td>\n",
       "    </tr>\n",
       "  </tbody>\n",
       "</table>\n",
       "</div>"
      ],
      "text/plain": [
       "        year  month  town  flat_type  floor_area_sqm  flat_model  address  \\\n",
       "208217  2024      1    23        4.0           117.0         4.0     1081   \n",
       "\n",
       "        storey_start  storey_end  remaining_lease_year  remaining_lease_month  \\\n",
       "208217            40          42                    87                      4   \n",
       "\n",
       "        lease_commence_date  resale_price  \n",
       "208217                 2012     1568888.0  "
      ]
     },
     "execution_count": 61,
     "metadata": {},
     "output_type": "execute_result"
    }
   ],
   "source": [
    "#checking how many datas are outliers based on resale_price\n",
    "df_final_1[df_final_1[\"resale_price\"] >= 1568888]"
   ]
  },
  {
   "cell_type": "code",
   "execution_count": 62,
   "metadata": {},
   "outputs": [
    {
     "data": {
      "text/plain": [
       "140000.04177720455"
      ]
     },
     "execution_count": 62,
     "metadata": {},
     "output_type": "execute_result"
    }
   ],
   "source": [
    "np.exp(11.849398)"
   ]
  },
  {
   "cell_type": "code",
   "execution_count": 63,
   "metadata": {},
   "outputs": [
    {
     "data": {
      "text/html": [
       "<div>\n",
       "<style scoped>\n",
       "    .dataframe tbody tr th:only-of-type {\n",
       "        vertical-align: middle;\n",
       "    }\n",
       "\n",
       "    .dataframe tbody tr th {\n",
       "        vertical-align: top;\n",
       "    }\n",
       "\n",
       "    .dataframe thead th {\n",
       "        text-align: right;\n",
       "    }\n",
       "</style>\n",
       "<table border=\"1\" class=\"dataframe\">\n",
       "  <thead>\n",
       "    <tr style=\"text-align: right;\">\n",
       "      <th></th>\n",
       "      <th>year</th>\n",
       "      <th>month</th>\n",
       "      <th>town</th>\n",
       "      <th>flat_type</th>\n",
       "      <th>floor_area_sqm</th>\n",
       "      <th>flat_model</th>\n",
       "      <th>address</th>\n",
       "      <th>storey_start</th>\n",
       "      <th>storey_end</th>\n",
       "      <th>remaining_lease_year</th>\n",
       "      <th>remaining_lease_month</th>\n",
       "      <th>lease_commence_date</th>\n",
       "      <th>resale_price</th>\n",
       "    </tr>\n",
       "  </thead>\n",
       "  <tbody>\n",
       "    <tr>\n",
       "      <th>104489</th>\n",
       "      <td>2020</td>\n",
       "      <td>2</td>\n",
       "      <td>23</td>\n",
       "      <td>2.0</td>\n",
       "      <td>67.0</td>\n",
       "      <td>5.0</td>\n",
       "      <td>3004</td>\n",
       "      <td>10</td>\n",
       "      <td>12</td>\n",
       "      <td>49</td>\n",
       "      <td>11</td>\n",
       "      <td>1971</td>\n",
       "      <td>140000.0</td>\n",
       "    </tr>\n",
       "  </tbody>\n",
       "</table>\n",
       "</div>"
      ],
      "text/plain": [
       "        year  month  town  flat_type  floor_area_sqm  flat_model  address  \\\n",
       "104489  2020      2    23        2.0            67.0         5.0     3004   \n",
       "\n",
       "        storey_start  storey_end  remaining_lease_year  remaining_lease_month  \\\n",
       "104489            10          12                    49                     11   \n",
       "\n",
       "        lease_commence_date  resale_price  \n",
       "104489                 1971      140000.0  "
      ]
     },
     "execution_count": 63,
     "metadata": {},
     "output_type": "execute_result"
    }
   ],
   "source": [
    "df_final_1[df_final_1[\"resale_price\"] <= 140000]"
   ]
  },
  {
   "cell_type": "code",
   "execution_count": 64,
   "metadata": {},
   "outputs": [],
   "source": [
    "# now we want to create the model for \"resale_price\" prediction\n",
    "# importing the model\n",
    "from sklearn.model_selection import train_test_split\n",
    "from sklearn.metrics import r2_score,mean_squared_error,mean_absolute_error\n",
    "from sklearn.linear_model import LinearRegression\n",
    "from sklearn.tree import DecisionTreeRegressor\n",
    "from sklearn.ensemble import RandomForestRegressor\n",
    "from sklearn.ensemble import AdaBoostRegressor\n",
    "from sklearn.ensemble import ExtraTreesRegressor\n",
    "from sklearn.ensemble import GradientBoostingRegressor\n",
    "from xgboost import XGBRegressor\n",
    "import pickle"
   ]
  },
  {
   "cell_type": "code",
   "execution_count": 65,
   "metadata": {},
   "outputs": [],
   "source": [
    "# Train Test Split for model selection\n",
    "def select_model(df, algorithm):\n",
    "    # x, y spliting\n",
    "    x= df.drop(columns=[\"resale_price\"])\n",
    "    y= df[\"resale_price\"]\n",
    "\n",
    "    X_train, X_test, y_train, y_test= train_test_split(x,y, test_size=0.2, random_state=42)\n",
    "\n",
    "    model= algorithm().fit(X_train,y_train)\n",
    "    y_pred_train= model.predict(X_train)\n",
    "    y_pred_test= model.predict(X_test)\n",
    "\n",
    "\n",
    "    #Checking the accuracy score\n",
    "    train_mse= mean_squared_error(y_train, y_pred_train)\n",
    "    train_rmse= np.sqrt(train_mse)\n",
    "    train_mae= mean_absolute_error(y_train, y_pred_train)\n",
    "    train_r2= r2_score(y_train, y_pred_train)\n",
    "\n",
    "\n",
    "    test_mse= mean_squared_error(y_test, y_pred_test)\n",
    "    test_rmse= np.sqrt(test_mse)\n",
    "    test_mae= mean_absolute_error(y_test, y_pred_test)\n",
    "    test_r2= r2_score(y_test, y_pred_test)\n",
    "\n",
    "    metrics_train={\"Data\": \"Train Data\",\n",
    "        \"Name\":algorithm.__name__, \n",
    "        \"R2_score\":train_r2,\n",
    "        \"Mean_squared_error\":train_mse,\n",
    "        \"Root_mean_squared_error\":train_rmse,\n",
    "        \"Mean_absolute_error\":train_mae\n",
    "        }\n",
    "    \n",
    "\n",
    "    metrics_test={\"Data\": \"Test Data\",\n",
    "           \"Name\":algorithm.__name__,\n",
    "           \"R2_score\":test_r2,\n",
    "           \"Mean_squared_error\":test_mse,\n",
    "           \"Root_mean_squared_error\":test_rmse,\n",
    "           \"Mean_absolute_error\":test_mae}\n",
    "    \n",
    "    print(metrics_train)\n",
    "    print(metrics_test)\n",
    "    print(\"\")\n",
    "\n"
   ]
  },
  {
   "cell_type": "code",
   "execution_count": 109,
   "metadata": {},
   "outputs": [
    {
     "name": "stdout",
     "output_type": "stream",
     "text": [
      "{'Data': 'Train Data', 'Name': 'LinearRegression', 'R2_score': 0.6751648103996299, 'Mean_squared_error': 0.03561520453544063, 'Root_mean_squared_error': 0.18871991027827623, 'Mean_absolute_error': 0.14782436202969979}\n",
      "{'Data': 'Test Data', 'Name': 'LinearRegression', 'R2_score': 0.675104609232521, 'Mean_squared_error': 0.035704505134629375, 'Root_mean_squared_error': 0.1889563577512791, 'Mean_absolute_error': 0.14798510477704724}\n",
      "\n"
     ]
    }
   ],
   "source": [
    "select_model(df_final_5, LinearRegression)"
   ]
  },
  {
   "cell_type": "code",
   "execution_count": 110,
   "metadata": {},
   "outputs": [
    {
     "name": "stdout",
     "output_type": "stream",
     "text": [
      "{'Data': 'Train Data', 'Name': 'DecisionTreeRegressor', 'R2_score': 0.9962339280535496, 'Mean_squared_error': 0.00041291530893875736, 'Root_mean_squared_error': 0.020320317638726944, 'Mean_absolute_error': 0.007252395413522166}\n",
      "{'Data': 'Test Data', 'Name': 'DecisionTreeRegressor', 'R2_score': 0.9253331363251411, 'Mean_squared_error': 0.008205543978842203, 'Root_mean_squared_error': 0.09058445771125531, 'Mean_absolute_error': 0.06434020466620641}\n",
      "\n"
     ]
    }
   ],
   "source": [
    "select_model(df_final_5, DecisionTreeRegressor)"
   ]
  },
  {
   "cell_type": "code",
   "execution_count": 66,
   "metadata": {},
   "outputs": [
    {
     "name": "stdout",
     "output_type": "stream",
     "text": [
      "{'Data': 'Train Data', 'Name': 'RandomForestRegressor', 'R2_score': 0.9911634191516742, 'Mean_squared_error': 0.0009688501873650587, 'Root_mean_squared_error': 0.031126358401924546, 'Mean_absolute_error': 0.022188663233103433}\n",
      "{'Data': 'Test Data', 'Name': 'RandomForestRegressor', 'R2_score': 0.9550176222135812, 'Mean_squared_error': 0.004943355874791286, 'Root_mean_squared_error': 0.07030900280043294, 'Mean_absolute_error': 0.05145132196585946}\n",
      "\n"
     ]
    }
   ],
   "source": [
    "select_model(df_final_5, RandomForestRegressor)\n"
   ]
  },
  {
   "cell_type": "code",
   "execution_count": 112,
   "metadata": {},
   "outputs": [
    {
     "name": "stdout",
     "output_type": "stream",
     "text": [
      "{'Data': 'Train Data', 'Name': 'AdaBoostRegressor', 'R2_score': 0.6653530364704279, 'Mean_squared_error': 0.03669097571581658, 'Root_mean_squared_error': 0.19154888596861266, 'Mean_absolute_error': 0.15886683996504827}\n",
      "{'Data': 'Test Data', 'Name': 'AdaBoostRegressor', 'R2_score': 0.6662748893131818, 'Mean_squared_error': 0.036674850633999716, 'Root_mean_squared_error': 0.1915067900467232, 'Mean_absolute_error': 0.15874928638536892}\n",
      "\n"
     ]
    }
   ],
   "source": [
    "select_model(df_final_5, AdaBoostRegressor)"
   ]
  },
  {
   "cell_type": "code",
   "execution_count": 113,
   "metadata": {},
   "outputs": [
    {
     "name": "stdout",
     "output_type": "stream",
     "text": [
      "{'Data': 'Train Data', 'Name': 'ExtraTreesRegressor', 'R2_score': 0.9962339280535496, 'Mean_squared_error': 0.0004129153089387575, 'Root_mean_squared_error': 0.020320317638726947, 'Mean_absolute_error': 0.007252395413628919}\n",
      "{'Data': 'Test Data', 'Name': 'ExtraTreesRegressor', 'R2_score': 0.9469422697362214, 'Mean_squared_error': 0.005830799871182685, 'Root_mean_squared_error': 0.07635967437844851, 'Mean_absolute_error': 0.05568572410586902}\n",
      "\n"
     ]
    }
   ],
   "source": [
    "select_model(df_final_5, ExtraTreesRegressor)"
   ]
  },
  {
   "cell_type": "code",
   "execution_count": 114,
   "metadata": {},
   "outputs": [
    {
     "name": "stdout",
     "output_type": "stream",
     "text": [
      "{'Data': 'Train Data', 'Name': 'GradientBoostingRegressor', 'R2_score': 0.8641383816454808, 'Mean_squared_error': 0.014895982581705679, 'Root_mean_squared_error': 0.1220490990614256, 'Mean_absolute_error': 0.09222814519798662}\n",
      "{'Data': 'Test Data', 'Name': 'GradientBoostingRegressor', 'R2_score': 0.8641581334055324, 'Mean_squared_error': 0.014928394680708093, 'Root_mean_squared_error': 0.1221818099420208, 'Mean_absolute_error': 0.09230406405749558}\n",
      "\n"
     ]
    }
   ],
   "source": [
    "select_model(df_final_5, GradientBoostingRegressor)"
   ]
  },
  {
   "cell_type": "code",
   "execution_count": 115,
   "metadata": {},
   "outputs": [
    {
     "name": "stdout",
     "output_type": "stream",
     "text": [
      "{'Data': 'Train Data', 'Name': 'XGBRegressor', 'R2_score': 0.9552455334500862, 'Mean_squared_error': 0.0049069175110328, 'Root_mean_squared_error': 0.07004939336662952, 'Mean_absolute_error': 0.05348833682978767}\n",
      "{'Data': 'Test Data', 'Name': 'XGBRegressor', 'R2_score': 0.9525634564427403, 'Mean_squared_error': 0.005213057375201098, 'Root_mean_squared_error': 0.07220150535273553, 'Mean_absolute_error': 0.055087265740692726}\n",
      "\n"
     ]
    }
   ],
   "source": [
    "select_model(df_final_5, XGBRegressor) "
   ]
  },
  {
   "cell_type": "code",
   "execution_count": null,
   "metadata": {},
   "outputs": [],
   "source": [
    "# RandomForestClassifier is good interpretability,\n",
    "# And it will detect the unseen data for this datas (without overfitting)\n",
    "# so i am selecting the algorithm\n",
    "\n",
    "#x,y spliting\n",
    "x= df_final_5.drop(columns=[\"resale_price\"])\n",
    "y= df_final_5[\"resale_price\"]\n",
    "\n",
    "X_train, X_test, y_train, y_test= train_test_split(x,y, test_size=0.2, random_state=42)\n",
    "\n",
    "model_1= RandomForestRegressor().fit(X_train,y_train)\n",
    "y_pred= model_1.predict(X_test)\n",
    "\n",
    "\n",
    "test_mse= mean_squared_error(y_test, y_pred)\n",
    "test_rmse= np.sqrt(test_mse)\n",
    "test_mae= mean_absolute_error(y_test, y_pred)\n",
    "test_r2= r2_score(y_test, y_pred)\n",
    "\n",
    "metrics_test={\"Data\": \"Test Data\",\n",
    "        \"Name\":RandomForestRegressor.__name__,\n",
    "        \"R2_score\":test_r2,\n",
    "        \"Mean_squared_error\":test_mse,\n",
    "        \"Root_mean_squared_error\":test_rmse,\n",
    "        \"Mean_absolute_error\":test_mae\n",
    "            }\n",
    "\n",
    "print(metrics_test) \n",
    "\n",
    "\n"
   ]
  },
  {
   "cell_type": "code",
   "execution_count": 117,
   "metadata": {},
   "outputs": [
    {
     "data": {
      "text/plain": [
       "year                     2015.000000\n",
       "town                        4.000000\n",
       "flat_type                   2.000000\n",
       "floor_area_sqm             74.000000\n",
       "flat_model                  8.000000\n",
       "storey_start                0.000000\n",
       "storey_end                  1.098612\n",
       "remaining_lease_year       68.000000\n",
       "remaining_lease_month       0.000000\n",
       "lease_commence_date      1985.000000\n",
       "resale_price               12.815838\n",
       "Name: 10456, dtype: float64"
      ]
     },
     "execution_count": 117,
     "metadata": {},
     "output_type": "execute_result"
    }
   ],
   "source": [
    "df_final_5.iloc[10456]"
   ]
  },
  {
   "cell_type": "code",
   "execution_count": 125,
   "metadata": {},
   "outputs": [
    {
     "data": {
      "text/plain": [
       "year                       int64\n",
       "town                       int64\n",
       "flat_type                float64\n",
       "floor_area_sqm           float64\n",
       "flat_model               float64\n",
       "storey_start             float64\n",
       "storey_end               float64\n",
       "remaining_lease_year       int64\n",
       "remaining_lease_month      int64\n",
       "lease_commence_date        int64\n",
       "resale_price             float64\n",
       "dtype: object"
      ]
     },
     "execution_count": 125,
     "metadata": {},
     "output_type": "execute_result"
    }
   ],
   "source": [
    "df_final_5.dtypes"
   ]
  },
  {
   "cell_type": "code",
   "execution_count": 71,
   "metadata": {},
   "outputs": [
    {
     "data": {
      "text/plain": [
       "year                     214756\n",
       "town                     214756\n",
       "flat_type                214756\n",
       "floor_area_sqm           214756\n",
       "flat_model               214756\n",
       "storey_start             214756\n",
       "storey_end               214756\n",
       "remaining_lease_year     214756\n",
       "remaining_lease_month    214756\n",
       "lease_commence_date      214756\n",
       "resale_price             214756\n",
       "dtype: int64"
      ]
     },
     "execution_count": 71,
     "metadata": {},
     "output_type": "execute_result"
    }
   ],
   "source": [
    "np.isfinite(df_final_5).sum()"
   ]
  },
  {
   "cell_type": "code",
   "execution_count": 127,
   "metadata": {},
   "outputs": [
    {
     "data": {
      "text/html": [
       "<div>\n",
       "<style scoped>\n",
       "    .dataframe tbody tr th:only-of-type {\n",
       "        vertical-align: middle;\n",
       "    }\n",
       "\n",
       "    .dataframe tbody tr th {\n",
       "        vertical-align: top;\n",
       "    }\n",
       "\n",
       "    .dataframe thead th {\n",
       "        text-align: right;\n",
       "    }\n",
       "</style>\n",
       "<table border=\"1\" class=\"dataframe\">\n",
       "  <thead>\n",
       "    <tr style=\"text-align: right;\">\n",
       "      <th></th>\n",
       "      <th>year</th>\n",
       "      <th>town</th>\n",
       "      <th>flat_type</th>\n",
       "      <th>floor_area_sqm</th>\n",
       "      <th>flat_model</th>\n",
       "      <th>storey_start</th>\n",
       "      <th>storey_end</th>\n",
       "      <th>remaining_lease_year</th>\n",
       "      <th>remaining_lease_month</th>\n",
       "      <th>lease_commence_date</th>\n",
       "      <th>resale_price</th>\n",
       "    </tr>\n",
       "  </thead>\n",
       "  <tbody>\n",
       "    <tr>\n",
       "      <th>0</th>\n",
       "      <td>2015</td>\n",
       "      <td>0</td>\n",
       "      <td>2.0</td>\n",
       "      <td>60.0</td>\n",
       "      <td>5.0</td>\n",
       "      <td>1.94591</td>\n",
       "      <td>2.197225</td>\n",
       "      <td>70</td>\n",
       "      <td>0</td>\n",
       "      <td>1986</td>\n",
       "      <td>12.449019</td>\n",
       "    </tr>\n",
       "  </tbody>\n",
       "</table>\n",
       "</div>"
      ],
      "text/plain": [
       "   year  town  flat_type  floor_area_sqm  flat_model  storey_start  \\\n",
       "0  2015     0        2.0            60.0         5.0       1.94591   \n",
       "\n",
       "   storey_end  remaining_lease_year  remaining_lease_month  \\\n",
       "0    2.197225                    70                      0   \n",
       "\n",
       "   lease_commence_date  resale_price  \n",
       "0                 1986     12.449019  "
      ]
     },
     "execution_count": 127,
     "metadata": {},
     "output_type": "execute_result"
    }
   ],
   "source": [
    "df_final_5.head(1)"
   ]
  },
  {
   "cell_type": "code",
   "execution_count": 118,
   "metadata": {},
   "outputs": [
    {
     "data": {
      "text/plain": [
       "12.808504569445104"
      ]
     },
     "execution_count": 118,
     "metadata": {},
     "output_type": "execute_result"
    }
   ],
   "source": [
    "user_data = np.array([[2015,4,2,74,8,0,1.098612,68,0,1985]])\n",
    "y_pred_1 = model_1.predict(user_data)\n",
    "y_pred_1[0]"
   ]
  },
  {
   "cell_type": "code",
   "execution_count": 119,
   "metadata": {},
   "outputs": [
    {
     "data": {
      "text/plain": [
       "359332.7000997733"
      ]
     },
     "execution_count": 119,
     "metadata": {},
     "output_type": "execute_result"
    }
   ],
   "source": [
    "np.exp(12.792003979535888)"
   ]
  },
  {
   "cell_type": "code",
   "execution_count": 164,
   "metadata": {},
   "outputs": [],
   "source": [
    "import pickle\n",
    "import numpy as np"
   ]
  },
  {
   "cell_type": "code",
   "execution_count": 120,
   "metadata": {},
   "outputs": [],
   "source": [
    "with open(\"Resale_Flat_Prices_Model_1.pkl\",\"wb\") as f:\n",
    "  pickle.dump(model_1,f)"
   ]
  },
  {
   "cell_type": "code",
   "execution_count": 121,
   "metadata": {},
   "outputs": [],
   "source": [
    "with open(\"Resale_Flat_Prices_Model_1.pkl\",\"rb\") as f1:\n",
    "    regg_model= pickle.load(f1)     "
   ]
  },
  {
   "cell_type": "code",
   "execution_count": 122,
   "metadata": {},
   "outputs": [
    {
     "data": {
      "text/plain": [
       "12.273202704163293"
      ]
     },
     "execution_count": 122,
     "metadata": {},
     "output_type": "execute_result"
    }
   ],
   "source": [
    "user_data = np.array([[2015,8,5,4.955827,3,1.386294,1.791759,73,0,1990]])\n",
    "y_pred_1 = regg_model.predict(user_data)\n",
    "y_pred_1[0]     "
   ]
  },
  {
   "cell_type": "code",
   "execution_count": 123,
   "metadata": {},
   "outputs": [
    {
     "data": {
      "text/plain": [
       "213886.9116653966"
      ]
     },
     "execution_count": 123,
     "metadata": {},
     "output_type": "execute_result"
    }
   ],
   "source": [
    "np.exp(12.273202704163293) "
   ]
  }
 ],
 "metadata": {
  "kernelspec": {
   "display_name": "Python 3",
   "language": "python",
   "name": "python3"
  },
  "language_info": {
   "codemirror_mode": {
    "name": "ipython",
    "version": 3
   },
   "file_extension": ".py",
   "mimetype": "text/x-python",
   "name": "python",
   "nbconvert_exporter": "python",
   "pygments_lexer": "ipython3",
   "version": "3.12.0"
  }
 },
 "nbformat": 4,
 "nbformat_minor": 2
}
